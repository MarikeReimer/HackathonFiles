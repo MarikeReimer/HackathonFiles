{
 "cells": [
  {
   "cell_type": "markdown",
   "metadata": {},
   "source": [
    "Goal: Use the 2 Photon Imaging module to store data from TiltBrush rendering of neural anatomy, with length/width/volume/center of mass measurements for each dendtritic spine.\n",
    "\n",
    "Assumption 1: the manifold, \"np.ones((5, 5, 3))', should describe the coordinates of the points/triangles in our image segments.\n",
    "\n",
    "Assumption 2: ROIs represent the vertices we use to define dendtritic spine length and width.\n",
    "\n",
    "Assumption 3: Image segmentation should be done for dendrite segments"
   ]
  },
  {
   "cell_type": "code",
   "execution_count": 1,
   "metadata": {},
   "outputs": [],
   "source": [
    "import os\n",
    "import h5py\n",
    "#from tqdm import tqdm #Loading bar wrapper\n",
    "import numpy as np\n",
    "import open3d as o3d\n",
    "import csv\n",
    "from pynwb import NWBFile, NWBHDF5IO\n",
    "from datetime import datetime\n",
    "from dateutil.tz import tzlocal\n",
    "from pynwb import NWBFile\n",
    "from pynwb.ophys import TwoPhotonSeries, OpticalChannel, ImageSegmentation, Fluorescence\n",
    "from pynwb.device import Device\n",
    "#from nwbwidgets import nwb2widget\n",
    "\n"
   ]
  },
  {
   "cell_type": "markdown",
   "metadata": {},
   "source": [
    "Read in renderings from the different segments of our image analysis"
   ]
  },
  {
   "cell_type": "code",
   "execution_count": 2,
   "metadata": {
    "scrolled": true
   },
   "outputs": [
    {
     "name": "stdout",
     "output_type": "stream",
     "text": [
      "geometry::TriangleMesh with 756 points and 252 triangles.\n",
      "(252, 3)\n"
     ]
    }
   ],
   "source": [
    "os.chdir('C:/Users/Mrika/OneDrive/TanLab/NWBHackathonFiles/HackthonFiles/ObjectModels')\n",
    "\n",
    "soma = o3d.io.read_triangle_mesh(\"soma.obj\")\n",
    "dendrites = o3d.io.read_triangle_mesh(\"dendrites.obj\")\n",
    "spines = o3d.io.read_triangle_mesh(\"spines.obj\")\n",
    "mushrooms = o3d.io.read_triangle_mesh(\"mushrooms.obj\")\n",
    "\n",
    "#Different ways of manipulating the soma data\n",
    "print(soma)\n",
    "soma_triangles = np.asarray(soma.triangles)\n",
    "print(soma_triangles.shape)\n"
   ]
  },
  {
   "cell_type": "markdown",
   "metadata": {},
   "source": [
    "Please see SourceDataforSoma.txt in the raw data folder for complete description of data from soma.obj"
   ]
  },
  {
   "cell_type": "code",
   "execution_count": 3,
   "metadata": {},
   "outputs": [],
   "source": [
    "#Display Soma shape in another window\n",
    "soma.compute_vertex_normals()\n",
    "o3d.visualization.draw_geometries([soma])"
   ]
  },
  {
   "cell_type": "markdown",
   "metadata": {},
   "source": [
    "We are planning to write an add in for Blender to extract ROI data from vertex objects created in each dendtritic spine object.  For the purposes of the hackathon, we will hard-code the test variables."
   ]
  },
  {
   "cell_type": "code",
   "execution_count": 4,
   "metadata": {},
   "outputs": [],
   "source": [
    "ROI_ID = 1\n",
    "L1 = [1.1, 1.2, 3.1,1] # x1, y1, z1, weight1\n",
    "L2 = [1.2, 1.4,1.8,1]\n",
    "W1 = [2.2, 4.1, 3.6, 1]\n",
    "W2 = [3.2, 4.4, 3.2, 1]\n",
    "\n",
    "#Other data associated with spines that doesn't belong in ROI table.  Probably belongs in columns of the image segmentation. :\n",
    "volume = 12\n",
    "center_of_mass = [1.2, 1.4,1.8]\n",
    "\n"
   ]
  },
  {
   "cell_type": "code",
   "execution_count": 5,
   "metadata": {},
   "outputs": [],
   "source": [
    "#Code from the calcium imaging tutorial\n",
    "\n",
    "nwbfile = NWBFile('my first synthetic recording', 'EXAMPLE_ID', datetime.now(tzlocal()),\n",
    "                  experimenter='Dr. Bilbo Baggins',\n",
    "                  lab='Bag End Laboratory',\n",
    "                  institution='University of Middle Earth at the Shire',\n",
    "                  experiment_description=('I went on an adventure with thirteen '\n",
    "                                          'dwarves to reclaim vast treasures.'),\n",
    "                  session_id='LONELYMTN')\n",
    "\n",
    "#Create metadata about our microscope\n",
    "device = Device('Our microscope')\n",
    "nwbfile.add_device(device)\n",
    "optical_channel = OpticalChannel('my_optchan', 'description', 500.)\n",
    "\n",
    "#QUESTION: HOW DO WE CREATE THE MANIFOLD?\n",
    "\n",
    "imaging_plane = nwbfile.create_imaging_plane('my_imgpln', optical_channel, 'a very interesting part of the brain',\n",
    "                                             device, 600., 300., 'GFP', 'my favorite brain location',\n",
    "                                             np.ones((5, 5, 3)), 4.0, 'manifold unit', 'A frame to refer to')\n",
    "\n",
    "#Add datasets  to the processing module\n",
    "mod = nwbfile.create_processing_module('RenderedNeuron', 'Contains triangle mesh data from a VR neuron')\n",
    "\n",
    "\n",
    "\n",
    "#This links our processed data to the original image/images\n",
    "image_series = TwoPhotonSeries(name='test_iS', dimension=[2],\n",
    "                               external_file=['images.tiff'], imaging_plane=imaging_plane,\n",
    "                               starting_frame=[0], format='tiff', starting_time=0.0, rate=1.0)\n",
    "nwbfile.add_acquisition(image_series)\n",
    "\n",
    "img_seg = ImageSegmentation()\n",
    "mod.add(img_seg)\n",
    "ps = img_seg.create_plane_segmentation('output from segmenting my favorite imaging plane',imaging_plane, 'my_planeseg', image_series)\n",
    "\n",
    "#Example pixel and voxel masks\n",
    "\n",
    "w, h = 3, 3\n",
    "pix_mask1 = [(0, 0, 1.1), (1, 1, 1.2), (2, 2, 1.3)]\n",
    "img_mask1 = [[0.0 for x in range(w)] for y in range(h)]\n",
    "img_mask1[0][0] = 1.1\n",
    "img_mask1[1][1] = 1.2\n",
    "img_mask1[2][2] = 1.3\n",
    "ps.add_roi(pixel_mask=pix_mask1, image_mask=img_mask1)\n",
    "\n",
    "pix_mask2 = [(0, 0, 2.1), (1, 1, 2.2)]\n",
    "img_mask2 = [[0.0 for x in range(w)] for y in range(h)]\n",
    "img_mask2[0][0] = 2.1\n",
    "img_mask2[1][1] = 2.2\n",
    "ps.add_roi(pixel_mask=pix_mask2, image_mask=img_mask2)"
   ]
  },
  {
   "cell_type": "code",
   "execution_count": 6,
   "metadata": {},
   "outputs": [],
   "source": [
    "#save file\n",
    "with NWBHDF5IO('prototype.nwb', 'w') as io:\n",
    "    io.write(nwbfile)\n",
    "    "
   ]
  }
 ],
 "metadata": {
  "kernelspec": {
   "display_name": "Python 3",
   "language": "python",
   "name": "python3"
  },
  "language_info": {
   "codemirror_mode": {
    "name": "ipython",
    "version": 3
   },
   "file_extension": ".py",
   "mimetype": "text/x-python",
   "name": "python",
   "nbconvert_exporter": "python",
   "pygments_lexer": "ipython3",
   "version": "3.7.6"
  }
 },
 "nbformat": 4,
 "nbformat_minor": 4
}
